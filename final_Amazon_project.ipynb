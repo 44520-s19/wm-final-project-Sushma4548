{
 "cells": [
  {
   "cell_type": "markdown",
   "metadata": {},
   "source": [
    "# Sentimental Analysis for Amazon Beauty Products Reviews "
   ]
  },
  {
   "attachments": {},
   "cell_type": "markdown",
   "metadata": {},
   "source": [
    "The main aim of this project is to analyze positivity and negativity of reviews given by the Customers based on the different brands of a particular foundation on popular Amazon website."
   ]
  },
  {
   "cell_type": "markdown",
   "metadata": {},
   "source": [
    " Below listed are the products and their brands I have chosen for this project:\n",
    "- NARS - Luminous-Weightless-Foundation\n",
    "- CoverGirl - Fluid-Foundation-SPF15\n",
    "- MAC - Simply-Ageless-Foundation\n",
    "\n"
   ]
  },
  {
   "cell_type": "markdown",
   "metadata": {},
   "source": [
    "Below is the process for getting the product reviews from Amazon website and analyzing the data"
   ]
  },
  {
   "cell_type": "markdown",
   "metadata": {},
   "source": [
    "### Step 1: Defining the product url's"
   ]
  },
  {
   "cell_type": "code",
   "execution_count": 2,
   "metadata": {},
   "outputs": [],
   "source": [
    "AmazonProductList = ['https://www.amazon.com/All-Day-Luminous-Weightless-Foundation/dp/B00T45UQSI/ref=sr_1_3?keywords=Nars%2Bfoundation%2Bfor%2Bwomen&qid=1561860534&s=gateway&sr=8-3&th=1',\n",
    "            'https://www.amazon.com/MAC-Studio-Fluid-Foundation-SPF15/dp/B007ANN0CA/ref=sr_1_10?crid=2HMBR7964RZZC&keywords=mac+foundation+women&qid=1561858886&s=gateway&sprefix=mac+foundation+for+women%2Caps%2C248&sr=8-10',\n",
    "            'https://www.amazon.com/COVERGIRL-CGRMQ0347-Simply-Ageless-Foundation/dp/B0026P3GX0/ref=sr_1_48_sspa?keywords=olay%2Bfoundation%2Bfor%2Bwomen&qid=1561859200&s=gateway&sr=8-48-spons&th=1']"
   ]
  },
  {
   "cell_type": "markdown",
   "metadata": {},
   "source": [
    "### Step 2: Defining a method for Web Scraping the Amazon to get reviews of above mentioned products"
   ]
  },
  {
   "cell_type": "code",
   "execution_count": 5,
   "metadata": {},
   "outputs": [],
   "source": [
    "from lxml import html\n",
    "from requests import get\n",
    "from re import sub\n",
    "from dateutil import parser as dateparser\n",
    "from time import sleep\n",
    "\n",
    "def ParseReviews(amazon_url):\n",
    "   \n",
    "    headers = {'User-Agent': 'Mozilla/5.0 (X11; Linux x86_64) AppleWebKit/537.36 (KHTML, like Gecko) Chrome/62.0.3202.94 Safari/537.36'}\n",
    "    for i in range(5):\n",
    "        response = get(amazon_url, headers = headers, verify=False, timeout=30)\n",
    "        if response.status_code == 404:\n",
    "            return {\"url\": amazon_url, \"error\": \"page not found\"}\n",
    "        if response.status_code != 200:\n",
    "            continue\n",
    "        \n",
    "        cleaned_response = response.text.replace('\\x00', '')\n",
    "        \n",
    "        parser = html.fromstring(cleaned_response)\n",
    "        REVIEW_SECTION_1 = '//div[contains(@id,\"reviews-summary\")]'\n",
    "        REVIEW_SECTION_2 = '//div[@data-hook=\"review\"]'\n",
    "\n",
    "        procduct_reviews = parser.xpath(REVIEW_SECTION_1)\n",
    "\n",
    "        if not procduct_reviews:\n",
    "            procduct_reviews = parser.xpath(REVIEW_SECTION_2)\n",
    "       \n",
    "        reviews_list = []\n",
    "        \n",
    "        for review in procduct_reviews:\n",
    "            XPATH_RATING  = './/i[@data-hook=\"review-star-rating\"]//text()'\n",
    "            XPATH_REVIEW_HEADER = './/a[@data-hook=\"review-title\"]//text()'\n",
    "            XPATH_REVIEW_POSTED_DATE = './/span[@data-hook=\"review-date\"]//text()'\n",
    "            XPATH_REVIEW_TEXT_1 = './/div[@data-hook=\"review-collapsed\"]//text()'\n",
    "            XPATH_REVIEW_TEXT_2 = './/div//span[@data-action=\"columnbalancing-showfullreview\"]/@data-columnbalancing-showfullreview'\n",
    "            XPATH_REVIEW_COMMENTS = './/span[@data-hook=\"review-comment\"]//text()'\n",
    "            XPATH_AUTHOR = './/span[contains(@class,\"profile-name\")]//text()'\n",
    "            XPATH_REVIEW_TEXT_3 = './/div[contains(@id,\"dpReviews\")]/div/text()'\n",
    "            \n",
    "            raw_review_author = review.xpath(XPATH_AUTHOR)\n",
    "            raw_review_rating = review.xpath(XPATH_RATING)\n",
    "            raw_review_header = review.xpath(XPATH_REVIEW_HEADER)\n",
    "            raw_review_posted_date = review.xpath(XPATH_REVIEW_POSTED_DATE)\n",
    "            raw_review_text1 = review.xpath(XPATH_REVIEW_TEXT_1)\n",
    "            raw_review_text2 = review.xpath(XPATH_REVIEW_TEXT_2)\n",
    "            raw_review_text3 = review.xpath(XPATH_REVIEW_TEXT_3)\n",
    "\n",
    "            # Cleaning data\n",
    "            author = ' '.join(' '.join(raw_review_author).split())\n",
    "            review_rating = ''.join(raw_review_rating).replace('out of 5 stars', '')\n",
    "            review_header = ' '.join(' '.join(raw_review_header).split())\n",
    "\n",
    "            try:\n",
    "                review_posted_date = dateparser.parse(''.join(raw_review_posted_date)).strftime('%d %b %Y')\n",
    "            except:\n",
    "                review_posted_date = None\n",
    "            review_text = ' '.join(' '.join(raw_review_text1).split())\n",
    "\n",
    "            # Grabbing hidden comments if present\n",
    "            if raw_review_text2:\n",
    "                json_loaded_review_data = loads(raw_review_text2[0])\n",
    "                json_loaded_review_data_text = json_loaded_review_data['rest']\n",
    "                cleaned_json_loaded_review_data_text = re.sub('<.*?>', '', json_loaded_review_data_text)\n",
    "                full_review_text = review_text+cleaned_json_loaded_review_data_text\n",
    "            else:\n",
    "                full_review_text = review_text\n",
    "            if not raw_review_text1:\n",
    "                full_review_text = ' '.join(' '.join(raw_review_text3).split())\n",
    "\n",
    "            raw_review_comments = review.xpath(XPATH_REVIEW_COMMENTS)\n",
    "            review_comments = ''.join(raw_review_comments)\n",
    "            review_comments = sub('[A-Za-z]', '', review_comments).strip()\n",
    "            review_dict = {\n",
    "                                'review_comment_count': review_comments,\n",
    "                                'review_text': full_review_text,\n",
    "                                'review_posted_date': review_posted_date,\n",
    "                                'review_header': review_header,\n",
    "                                'review_rating': review_rating,\n",
    "                                'review_author': author\n",
    "\n",
    "                            }\n",
    "            reviews_list.append(review_dict)\n",
    "\n",
    "        data = {\n",
    "                   # 'ratings': ratings_dict,\n",
    "                    'reviews': reviews_list,\n",
    "                    'url': amazon_url,\n",
    "                   # 'name': product_name,\n",
    "                   # 'price': product_price\n",
    "                \n",
    "                }\n",
    "        return data\n",
    "\n",
    "    return {\"error\": \"failed to process the page\", \"url\": amazon_url}"
   ]
  },
  {
   "cell_type": "markdown",
   "metadata": {},
   "source": [
    "### Step 3: Passing the url's to the above method and store the returned data"
   ]
  },
  {
   "cell_type": "code",
   "execution_count": 7,
   "metadata": {},
   "outputs": [
    {
     "name": "stderr",
     "output_type": "stream",
     "text": [
      "C:\\Users\\S534741\\AppData\\Local\\Continuum\\anaconda3\\lib\\site-packages\\urllib3\\connectionpool.py:847: InsecureRequestWarning: Unverified HTTPS request is being made. Adding certificate verification is strongly advised. See: https://urllib3.readthedocs.io/en/latest/advanced-usage.html#ssl-warnings\n",
      "  InsecureRequestWarning)\n",
      "C:\\Users\\S534741\\AppData\\Local\\Continuum\\anaconda3\\lib\\site-packages\\urllib3\\connectionpool.py:847: InsecureRequestWarning: Unverified HTTPS request is being made. Adding certificate verification is strongly advised. See: https://urllib3.readthedocs.io/en/latest/advanced-usage.html#ssl-warnings\n",
      "  InsecureRequestWarning)\n",
      "C:\\Users\\S534741\\AppData\\Local\\Continuum\\anaconda3\\lib\\site-packages\\urllib3\\connectionpool.py:847: InsecureRequestWarning: Unverified HTTPS request is being made. Adding certificate verification is strongly advised. See: https://urllib3.readthedocs.io/en/latest/advanced-usage.html#ssl-warnings\n",
      "  InsecureRequestWarning)\n"
     ]
    }
   ],
   "source": [
    "reviews_extracted = []\n",
    "for product in AmazonProductList:\n",
    "    reviews_extracted.append(ParseReviews(product))\n",
    "    sleep(5)\n"
   ]
  },
  {
   "cell_type": "markdown",
   "metadata": {},
   "source": [
    "### Step 4: Defining a method for calculating sentimental analysis of extracted reviews"
   ]
  },
  {
   "cell_type": "code",
   "execution_count": 11,
   "metadata": {},
   "outputs": [],
   "source": [
    "from nltk.sentiment.vader import SentimentIntensityAnalyzer\n",
    "def get_sentiments(text):\n",
    "    analyzer = SentimentIntensityAnalyzer()\n",
    "    return analyzer.polarity_scores(text)"
   ]
  },
  {
   "cell_type": "markdown",
   "metadata": {},
   "source": [
    "### Step 5: Passing reviews to defined analyzer method and finding sentimental analysis of reviews"
   ]
  },
  {
   "cell_type": "code",
   "execution_count": 12,
   "metadata": {},
   "outputs": [],
   "source": [
    "Positive=[]\n",
    "Negative=[]\n",
    "reviewPos=[]\n",
    "for reviewData in reviews_extracted:\n",
    "    sentiments1 = [get_sentiments(comment[\"review_text\"]) for comment in reviewData[\"reviews\"]]\n",
    "    Review1pos = [sent['pos'] for sent in sentiments1]\n",
    "    reviewPos.append(Review1pos)\n",
    "    Review1neg = [sent['neg'] for sent in sentiments1]\n",
    "    Positive.append(sum(Review1pos)/len(Review1pos))\n",
    "    Negative.append(sum(Review1neg)/len(Review1neg))"
   ]
  },
  {
   "cell_type": "markdown",
   "metadata": {},
   "source": [
    "### Step 6: Visualizaing the results of sentimental analysis using bar graph"
   ]
  },
  {
   "cell_type": "code",
   "execution_count": 14,
   "metadata": {},
   "outputs": [
    {
     "data": {
      "image/png": "[encoded data removed]",
      "text/plain": [
       "<Figure size 432x288 with 1 Axes>"
      ]
     },
     "metadata": {
      "needs_background": "light"
     },
     "output_type": "display_data"
    }
   ],
   "source": [
    "import numpy as np\n",
    "import matplotlib.pyplot as plt\n",
    "\n",
    "fig = plt.figure()\n",
    "axes = fig.add_subplot(111)\n",
    "n=3\n",
    "index=np.arange(n)\n",
    "barwidth=0.45\n",
    "opacity=0.8\n",
    "\n",
    "objects=('NARS','CoverGirl','MAC')\n",
    "\n",
    "product1 = plt.bar(index, Positive, barwidth,\n",
    "alpha=opacity,\n",
    "color='c',\n",
    "label='Positive')\n",
    "\n",
    "product2 = plt.bar(index + barwidth, Negative,barwidth,\n",
    "alpha=opacity,\n",
    "color='r',\n",
    "label='Negative')\n",
    "\n",
    "\n",
    "plt.xticks(index, objects)\n",
    "plt.ylabel('Mean of Sentiments of Reviews')\n",
    "plt.title('Sentiment Analysis of Customer Reviews')\n",
    "\n",
    "plt.legend()\n",
    "plt.tight_layout()\n",
    "\n",
    "plt.show()"
   ]
  },
  {
   "cell_type": "markdown",
   "metadata": {},
   "source": [
    "## Conclusion:"
   ]
  },
  {
   "cell_type": "markdown",
   "metadata": {},
   "source": [
    "On Comparing the three different beauty product brands such as NARS, CoverGirl and MAC, the conclusions drawn were:\n",
    "MAC has got most positive number of reviews compared to NARS and CoverGirl.\n",
    "CoverGirl has got the second most positive reviews and is also the first most product which has got the least negative reviews Compared to NARS and MAC.\n",
    "Finally, NARS is the product which has less positive reviews than CoverGirl and MAC and highest negative reviews compared to both the other products.\n",
    "On the whole, customers will easily identify which product has got more number of positive reviews and hence could choose the product.\n"
   ]
  },
  {
   "cell_type": "code",
   "execution_count": null,
   "metadata": {},
   "outputs": [],
   "source": []
  }
 ],
 "metadata": {
  "kernelspec": {
   "display_name": "Python 3",
   "language": "python",
   "name": "python3"
  },
  "language_info": {
   "codemirror_mode": {
    "name": "ipython",
    "version": 3
   },
   "file_extension": ".py",
   "mimetype": "text/x-python",
   "name": "python",
   "nbconvert_exporter": "python",
   "pygments_lexer": "ipython3",
   "version": "3.7.3"
  }
 },
 "nbformat": 4,
 "nbformat_minor": 2
}
